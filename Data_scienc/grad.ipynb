{
 "cells": [
  {
   "cell_type": "code",
   "execution_count": 4,
   "id": "21c1c69f",
   "metadata": {},
   "outputs": [
    {
     "name": "stdout",
     "output_type": "stream",
     "text": [
      "m: 2.021281045682893\n",
      "b: 2.923168672645527\n"
     ]
    }
   ],
   "source": [
    "import numpy as np\n",
    "\n",
    "# Define the data\n",
    "x = np.array([1, 2, 3, 4, 5])\n",
    "y = np.array([5, 7, 9, 11, 13])\n",
    "\n",
    "# Define the initial values of the parameters\n",
    "m = 0\n",
    "b = 0\n",
    "\n",
    "# Set the learning rate and number of iterations\n",
    "learning_rate = 0.01\n",
    "num_iterations = 1000\n",
    "\n",
    "# Implement gradient descent\n",
    "for i in range(num_iterations):\n",
    "    y_pred = m * x + b\n",
    "    error = y_pred - y\n",
    "    mse = np.mean(error ** 2)\n",
    "    m_gradient = 2 * np.mean(error * x)\n",
    "    b_gradient = 2 * np.mean(error)\n",
    "    m -= learning_rate * m_gradient\n",
    "    b -= learning_rate * b_gradient\n",
    "\n",
    "# Print the final values of the parameters\n",
    "print(\"m:\", m)\n",
    "print(\"b:\", b)\n"
   ]
  }
 ],
 "metadata": {
  "kernelspec": {
   "display_name": "Python 3 (ipykernel)",
   "language": "python",
   "name": "python3"
  },
  "language_info": {
   "codemirror_mode": {
    "name": "ipython",
    "version": 3
   },
   "file_extension": ".py",
   "mimetype": "text/x-python",
   "name": "python",
   "nbconvert_exporter": "python",
   "pygments_lexer": "ipython3",
   "version": "3.9.6"
  }
 },
 "nbformat": 4,
 "nbformat_minor": 5
}
